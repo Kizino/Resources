{
 "cells": [
  {
   "cell_type": "code",
   "execution_count": 1,
   "id": "60773d0a-b8f9-41ac-8f7e-8f0c61967ad6",
   "metadata": {
    "tags": []
   },
   "outputs": [],
   "source": [
    "from datetime import datetime, timezone, timedelta\n",
    "from dateutil.parser import isoparse"
   ]
  },
  {
   "cell_type": "code",
   "execution_count": 2,
   "id": "e54f1123-8c1a-4b15-9deb-f90ae5418cf5",
   "metadata": {
    "tags": []
   },
   "outputs": [],
   "source": [
    "# Note that that date include nano seconds.\n",
    "# isoparse will take the first 6 digits and ignore the rest\n",
    "# Python usually only parse micro second not nano second\n",
    "string_date = '2023-06-30T23:04:13.5833333Z'"
   ]
  },
  {
   "cell_type": "markdown",
   "id": "c2c80bc3-2e80-493a-b0aa-2b691d5e3725",
   "metadata": {},
   "source": [
    "### Parsing String to DateTime Obj"
   ]
  },
  {
   "cell_type": "code",
   "execution_count": 3,
   "id": "01a3e028-5ce7-4ca1-92c8-daf817f8283f",
   "metadata": {
    "tags": []
   },
   "outputs": [],
   "source": [
    "# Convert string date to datetime object\n",
    "datetime_obj = isoparse(string_date)"
   ]
  },
  {
   "cell_type": "code",
   "execution_count": 4,
   "id": "eec45d02-d426-4a26-92a5-1058f664a22d",
   "metadata": {
    "tags": []
   },
   "outputs": [
    {
     "data": {
      "text/plain": [
       "datetime.datetime(2023, 6, 30, 23, 4, 13, 583333, tzinfo=tzutc())"
      ]
     },
     "execution_count": 4,
     "metadata": {},
     "output_type": "execute_result"
    }
   ],
   "source": [
    "datetime_obj"
   ]
  },
  {
   "cell_type": "markdown",
   "id": "2c2b83bd-50fa-40d8-9e8a-c15962fb11b0",
   "metadata": {},
   "source": [
    "### Find Time Delta"
   ]
  },
  {
   "cell_type": "code",
   "execution_count": 5,
   "id": "3f0b1617-890a-4d85-a6bc-ba3f065501fe",
   "metadata": {
    "tags": []
   },
   "outputs": [
    {
     "data": {
      "text/plain": [
       "datetime.datetime(2023, 9, 7, 15, 49, 20, 8622, tzinfo=datetime.timezone.utc)"
      ]
     },
     "execution_count": 5,
     "metadata": {},
     "output_type": "execute_result"
    }
   ],
   "source": [
    "# Get current datetime\n",
    "datetime.now(timezone.utc)"
   ]
  },
  {
   "cell_type": "code",
   "execution_count": 6,
   "id": "4e2d3bf4-9e72-49c4-8fde-bb7c537e86c4",
   "metadata": {},
   "outputs": [
    {
     "data": {
      "text/plain": [
       "datetime.timedelta(days=68, seconds=60306, microseconds=433410)"
      ]
     },
     "execution_count": 6,
     "metadata": {},
     "output_type": "execute_result"
    }
   ],
   "source": [
    "# Subtract the difference. Get Time Delta\n",
    "datetime.now(timezone.utc) - datetime_obj"
   ]
  },
  {
   "cell_type": "markdown",
   "id": "d8880f21-6ee1-427c-bee3-cf9bb0157523",
   "metadata": {},
   "source": [
    "### Using Time Delta"
   ]
  },
  {
   "cell_type": "code",
   "execution_count": 7,
   "id": "91954610-0186-4480-b4b8-f1e685af8d90",
   "metadata": {
    "tags": []
   },
   "outputs": [
    {
     "data": {
      "text/plain": [
       "datetime.datetime(2023, 9, 6, 15, 49, 20, 24528, tzinfo=datetime.timezone.utc)"
      ]
     },
     "execution_count": 7,
     "metadata": {},
     "output_type": "execute_result"
    }
   ],
   "source": [
    "# Get yesterday's date\n",
    "datetime.now(timezone.utc) - timedelta(days = 1)"
   ]
  },
  {
   "cell_type": "markdown",
   "id": "56dcc581-d226-4331-88f0-7c6906af0c62",
   "metadata": {},
   "source": [
    "### DateTime Comparision"
   ]
  },
  {
   "cell_type": "code",
   "execution_count": 8,
   "id": "81252417-0d0b-4ddb-9006-16248543720d",
   "metadata": {
    "tags": []
   },
   "outputs": [],
   "source": [
    "past = datetime.now(timezone.utc) - timedelta(days=1)\n",
    "present = datetime.now(timezone.utc)\n",
    "future = datetime.now(timezone.utc) + timedelta(days=1)"
   ]
  },
  {
   "cell_type": "code",
   "execution_count": 9,
   "id": "9a90df27-066c-4e89-a851-c07e2c35b3f1",
   "metadata": {
    "tags": []
   },
   "outputs": [
    {
     "name": "stdout",
     "output_type": "stream",
     "text": [
      "Past:2023-09-06 16:46:13.350707+00:00\n",
      "Present:2023-09-07 16:46:13.350727+00:00\n",
      "Future:2023-09-08 16:46:13.350744+00:00\n"
     ]
    }
   ],
   "source": [
    "print(f'Past:{past}\\nPresent:{present}\\nFuture:{future}')"
   ]
  },
  {
   "cell_type": "code",
   "execution_count": 10,
   "id": "9a8fe916-1c37-4185-86ec-f9a75d8b088a",
   "metadata": {
    "tags": []
   },
   "outputs": [
    {
     "data": {
      "text/plain": [
       "True"
      ]
     },
     "execution_count": 10,
     "metadata": {},
     "output_type": "execute_result"
    }
   ],
   "source": [
    "past < present"
   ]
  },
  {
   "cell_type": "code",
   "execution_count": 11,
   "id": "0c4f5bd3-86ce-42a7-a4b9-991c182a270c",
   "metadata": {
    "tags": []
   },
   "outputs": [
    {
     "data": {
      "text/plain": [
       "True"
      ]
     },
     "execution_count": 11,
     "metadata": {},
     "output_type": "execute_result"
    }
   ],
   "source": [
    "present < future"
   ]
  },
  {
   "cell_type": "code",
   "execution_count": 12,
   "id": "16b27e4f-2cc1-4f13-9f6f-ef72bbfd54c8",
   "metadata": {
    "tags": []
   },
   "outputs": [
    {
     "data": {
      "text/plain": [
       "False"
      ]
     },
     "execution_count": 12,
     "metadata": {},
     "output_type": "execute_result"
    }
   ],
   "source": [
    "past > future"
   ]
  },
  {
   "cell_type": "code",
   "execution_count": null,
   "id": "3213df00-ab57-4277-a267-dbc524a168d5",
   "metadata": {},
   "outputs": [],
   "source": []
  }
 ],
 "metadata": {
  "kernelspec": {
   "display_name": "Python 3 (ipykernel)",
   "language": "python",
   "name": "python3"
  },
  "language_info": {
   "codemirror_mode": {
    "name": "ipython",
    "version": 3
   },
   "file_extension": ".py",
   "mimetype": "text/x-python",
   "name": "python",
   "nbconvert_exporter": "python",
   "pygments_lexer": "ipython3",
   "version": "3.10.9"
  }
 },
 "nbformat": 4,
 "nbformat_minor": 5
}
