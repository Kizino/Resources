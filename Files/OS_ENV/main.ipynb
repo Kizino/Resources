{
 "cells": [
  {
   "cell_type": "code",
   "execution_count": 2,
   "id": "19b02e81-da05-4768-8f71-9642591cf562",
   "metadata": {},
   "outputs": [],
   "source": [
    "import os\n",
    "import pprint"
   ]
  },
  {
   "cell_type": "code",
   "execution_count": 3,
   "id": "e8619ac0-3055-4448-967f-c9ea5158a28e",
   "metadata": {
    "tags": []
   },
   "outputs": [],
   "source": [
    "env_var = os.environ"
   ]
  },
  {
   "cell_type": "code",
   "execution_count": 4,
   "id": "ffd52249-9649-4421-9954-d03e2c3e4e91",
   "metadata": {
    "tags": []
   },
   "outputs": [
    {
     "name": "stdout",
     "output_type": "stream",
     "text": [
      "User's Environment variable:\n",
      "{'CLICOLOR': '1',\n",
      " 'CLICOLOR_FORCE': '1',\n",
      " 'CONDA_DIR': '/opt/conda',\n",
      " 'DEBIAN_FRONTEND': 'noninteractive',\n",
      " 'FORCE_COLOR': '1',\n",
      " 'GIT_PAGER': 'cat',\n",
      " 'HOME': '/home/jovyan',\n",
      " 'HOSTNAME': 'bc5f29e3e187',\n",
      " 'JPY_PARENT_PID': '7',\n",
      " 'JPY_SESSION_NAME': '/home/jovyan/work/Simple '\n",
      "                     'App/Untitled.ipynb',\n",
      " 'JULIA_DEPOT_PATH': '/opt/julia',\n",
      " 'JULIA_PKGDIR': '/opt/julia',\n",
      " 'JULIA_VERSION': '1.8.5',\n",
      " 'JUPYTER_PORT': '8888',\n",
      " 'JUPYTER_TOKEN': 'password',\n",
      " 'LANG': 'en_US.UTF-8',\n",
      " 'LANGUAGE': 'en_US.UTF-8',\n",
      " 'LC_ALL': 'en_US.UTF-8',\n",
      " 'MPLBACKEND': 'module://matplotlib_inline.backend_inline',\n",
      " 'NB_GID': '100',\n",
      " 'NB_UID': '1000',\n",
      " 'NB_USER': 'jovyan',\n",
      " 'PAGER': 'cat',\n",
      " 'PATH': '/opt/conda/bin:/usr/local/sbin:/usr/local/bin:/usr/sbin:/usr/bin:/sbin:/bin',\n",
      " 'PWD': '/home/jovyan',\n",
      " 'PYDEVD_USE_FRAME_EVAL': 'NO',\n",
      " 'SHELL': '/bin/bash',\n",
      " 'SHLVL': '0',\n",
      " 'TERM': 'xterm-color',\n",
      " 'XDG_CACHE_HOME': '/home/jovyan/.cache/'}\n"
     ]
    }
   ],
   "source": [
    "print(\"User's Environment variable:\")\n",
    "pprint.pprint(dict(env_var), width = 1)"
   ]
  },
  {
   "cell_type": "code",
   "execution_count": 16,
   "id": "f1f242c0-5cae-4e01-842e-4352926c8e28",
   "metadata": {
    "tags": []
   },
   "outputs": [],
   "source": [
    "# Set ENV Variable\n",
    "env_var[\"Spellcaster\"] = \"BlackMagician\""
   ]
  },
  {
   "cell_type": "code",
   "execution_count": 13,
   "id": "d89adcae-4b9f-497c-a4b5-100f2fdb8d18",
   "metadata": {
    "tags": []
   },
   "outputs": [
    {
     "data": {
      "text/plain": [
       "'EXPLOSION'"
      ]
     },
     "execution_count": 13,
     "metadata": {},
     "output_type": "execute_result"
    }
   ],
   "source": [
    "# Get ENV Variable\n",
    "# Return EXPLOSION if None\n",
    "env_var.get('ss','EXPLOSION')"
   ]
  },
  {
   "cell_type": "code",
   "execution_count": 17,
   "id": "de3d92b8-8659-4c77-a11c-aae897abca22",
   "metadata": {
    "tags": []
   },
   "outputs": [
    {
     "data": {
      "text/plain": [
       "'BlackMagician'"
      ]
     },
     "execution_count": 17,
     "metadata": {},
     "output_type": "execute_result"
    }
   ],
   "source": [
    "env_var.get('Spellcaster','EXPLOSION')"
   ]
  },
  {
   "cell_type": "code",
   "execution_count": null,
   "id": "ab372fd7-1012-416e-ac57-ef20a0beb96b",
   "metadata": {},
   "outputs": [],
   "source": []
  }
 ],
 "metadata": {
  "kernelspec": {
   "display_name": "Python 3 (ipykernel)",
   "language": "python",
   "name": "python3"
  },
  "language_info": {
   "codemirror_mode": {
    "name": "ipython",
    "version": 3
   },
   "file_extension": ".py",
   "mimetype": "text/x-python",
   "name": "python",
   "nbconvert_exporter": "python",
   "pygments_lexer": "ipython3",
   "version": "3.10.9"
  }
 },
 "nbformat": 4,
 "nbformat_minor": 5
}
